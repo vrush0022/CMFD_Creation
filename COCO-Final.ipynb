{
 "cells": [
  {
   "cell_type": "code",
   "execution_count": 1,
   "metadata": {},
   "outputs": [],
   "source": [
    "from pycocotools.coco import COCO\n",
    "import numpy as np\n",
    "import matplotlib.pyplot as plt\n",
    "#import Image\n",
    "from PIL import Image\n",
    "import cv2\n",
    "import random\n",
    "import collections\n",
    "import tqdm"
   ]
  },
  {
   "cell_type": "code",
   "execution_count": 2,
   "metadata": {},
   "outputs": [],
   "source": [
    "dataDir='C:/Users/gudea/Downloads/COCO'\n",
    "dataType='val2014'\n",
    "annFile='{}/annotations/instances_{}.json'.format(dataDir,dataType)"
   ]
  },
  {
   "cell_type": "code",
   "execution_count": 3,
   "metadata": {
    "scrolled": true
   },
   "outputs": [
    {
     "name": "stdout",
     "output_type": "stream",
     "text": [
      "loading annotations into memory...\n",
      "Done (t=14.13s)\n",
      "creating index...\n",
      "index created!\n"
     ]
    }
   ],
   "source": [
    "# initialize COCO api for instance annotations\n",
    "coco=COCO(annFile)"
   ]
  },
  {
   "cell_type": "code",
   "execution_count": 4,
   "metadata": {},
   "outputs": [
    {
     "data": {
      "text/plain": [
       "[('person', 1),\n",
       " ('bicycle', 2),\n",
       " ('car', 3),\n",
       " ('motorcycle', 4),\n",
       " ('airplane', 5),\n",
       " ('bus', 6),\n",
       " ('train', 7),\n",
       " ('truck', 8),\n",
       " ('boat', 9),\n",
       " ('traffic light', 10),\n",
       " ('fire hydrant', 11),\n",
       " ('stop sign', 13),\n",
       " ('parking meter', 14),\n",
       " ('bench', 15),\n",
       " ('bird', 16),\n",
       " ('cat', 17),\n",
       " ('dog', 18),\n",
       " ('horse', 19),\n",
       " ('sheep', 20),\n",
       " ('cow', 21),\n",
       " ('elephant', 22),\n",
       " ('bear', 23),\n",
       " ('zebra', 24),\n",
       " ('giraffe', 25),\n",
       " ('backpack', 27),\n",
       " ('umbrella', 28),\n",
       " ('handbag', 31),\n",
       " ('tie', 32),\n",
       " ('suitcase', 33),\n",
       " ('frisbee', 34),\n",
       " ('skis', 35),\n",
       " ('snowboard', 36),\n",
       " ('sports ball', 37),\n",
       " ('kite', 38),\n",
       " ('baseball bat', 39),\n",
       " ('baseball glove', 40),\n",
       " ('skateboard', 41),\n",
       " ('surfboard', 42),\n",
       " ('tennis racket', 43),\n",
       " ('bottle', 44),\n",
       " ('wine glass', 46),\n",
       " ('cup', 47),\n",
       " ('fork', 48),\n",
       " ('knife', 49),\n",
       " ('spoon', 50),\n",
       " ('bowl', 51),\n",
       " ('banana', 52),\n",
       " ('apple', 53),\n",
       " ('sandwich', 54),\n",
       " ('orange', 55),\n",
       " ('broccoli', 56),\n",
       " ('carrot', 57),\n",
       " ('hot dog', 58),\n",
       " ('pizza', 59),\n",
       " ('donut', 60),\n",
       " ('cake', 61),\n",
       " ('chair', 62),\n",
       " ('couch', 63),\n",
       " ('potted plant', 64),\n",
       " ('bed', 65),\n",
       " ('dining table', 67),\n",
       " ('toilet', 70),\n",
       " ('tv', 72),\n",
       " ('laptop', 73),\n",
       " ('mouse', 74),\n",
       " ('remote', 75),\n",
       " ('keyboard', 76),\n",
       " ('cell phone', 77),\n",
       " ('microwave', 78),\n",
       " ('oven', 79),\n",
       " ('toaster', 80),\n",
       " ('sink', 81),\n",
       " ('refrigerator', 82),\n",
       " ('book', 84),\n",
       " ('clock', 85),\n",
       " ('vase', 86),\n",
       " ('scissors', 87),\n",
       " ('teddy bear', 88),\n",
       " ('hair drier', 89),\n",
       " ('toothbrush', 90)]"
      ]
     },
     "execution_count": 4,
     "metadata": {},
     "output_type": "execute_result"
    }
   ],
   "source": [
    "cats = coco.loadCats(coco.getCatIds())\n",
    "nms=[(cat['name'],cat['id']) for cat in cats]\n",
    "nms\n",
    "#nms = set([cat['supercategory'] for cat in cats])\n",
    "#print('COCO supercategories: \\n{}'.format(' '.join(nms)))"
   ]
  },
  {
   "cell_type": "code",
   "execution_count": 8,
   "metadata": {},
   "outputs": [],
   "source": [
    "def findAnnotationMatchingCriteria(anns,imgdata,lowerCutoff=0.01,upperCutoff=0.15):\n",
    "    annotation_count=len(anns)    \n",
    "    toReturn=[]\n",
    "    indexes=random.sample(range(annotation_count),annotation_count)\n",
    "    while len(indexes)>0:\n",
    "        h,w,c=imgdata.shape\n",
    "        mask=coco.annToMask(anns[indexes.pop()])\n",
    "        forgedPixelsCount=collections.Counter(mask.flatten())[1]  \n",
    "        if forgedPixelsCount>= (h*w*lowerCutoff) and forgedPixelsCount<=(h*w*upperCutoff):\n",
    "            toReturn=mask\n",
    "            break\n",
    "        \n",
    "    return toReturn"
   ]
  },
  {
   "cell_type": "code",
   "execution_count": 9,
   "metadata": {},
   "outputs": [],
   "source": [
    "def getAffineTransformedMask(foreground,binarymask):\n",
    "    indices = np.where(binarymask == 1)\n",
    "    upper = np.min(indices[0])\n",
    "    lower = np.max(indices[0])\n",
    "    left = np.min(indices[1])\n",
    "    right = np.max(indices[1])\n",
    "    \n",
    "    width = right - left\n",
    "    height= lower - upper\n",
    "    n = random.randint(10,30)\n",
    "    hor_right = False if (binarymask.shape[1] - (right+ n +width)) <= 0 else True\n",
    "    hor_left = False if (left - (n+width)) <= 0 else True \n",
    "\n",
    "    side = \"\"\n",
    "    if hor_right == True and hor_left == True:\n",
    "        side=random.sample([\"R\",\"L\"],1)[0]\n",
    "        \n",
    "    elif hor_right == True and hor_left == False:\n",
    "        side = \"R\"\n",
    "\n",
    "    elif hor_right == False and hor_left == True:\n",
    "        side = \"L\"\n",
    "    else:\n",
    "        return([],[])\n",
    "\n",
    "    if side == \"L\":\n",
    "        S = -(width+n)\n",
    "    else:\n",
    "        S = width+n\n",
    "\n",
    "    v = 0    \n",
    "    lu = random.randint(0,1)\n",
    "    if((upper-10)>1 and (binarymask.shape[0]-lower-10) >1):\n",
    "        if lu == 1:\n",
    "            v = -random.randint(1,upper-10)\n",
    "        else:\n",
    "            v = random.randint(1,binarymask.shape[0]-lower-10)\n",
    "    elif (upper-10)>1 :\n",
    "        v = -random.randint(1,upper-10)\n",
    "    elif (binarymask.shape[0]-lower-10) >1:\n",
    "        v = random.randint(1,binarymask.shape[0]-lower-10)\n",
    "    else:\n",
    "        return([],[])\n",
    "        \n",
    "    rows,cols = binarymask.shape\n",
    "    new_binary_mask=[]\n",
    "    new_foreground=[]\n",
    "    M = np.float32([[1,0,S],[0,1,v]])\n",
    "    transformedForeground = cv2.warpAffine(foreground,M,(cols,rows))\n",
    "    transformedBinaryMask= cv2.warpAffine(binarymask,M,(cols,rows))\n",
    "    return(transformedForeground,transformedBinaryMask)\n",
    "        "
   ]
  },
  {
   "cell_type": "code",
   "execution_count": 11,
   "metadata": {},
   "outputs": [
    {
     "data": {
      "application/vnd.jupyter.widget-view+json": {
       "model_id": "7b966873513748eab2431abb59ca66f0",
       "version_major": 2,
       "version_minor": 0
      },
      "text/plain": [
       "HBox(children=(IntProgress(value=1, bar_style='info', max=1), HTML(value='')))"
      ]
     },
     "metadata": {},
     "output_type": "display_data"
    },
    {
     "name": "stdout",
     "output_type": "stream",
     "text": [
      "\n"
     ]
    }
   ],
   "source": [
    "catIds =coco.getCatIds()\n",
    "imgIds = coco.getImgIds()\n",
    "file_name_list=[((coco.loadImgs(imid)[0])['file_name']) for imid in imgIds]\n",
    "fake_path='C:/Users/gudea/Desktop/COCO_FORGED/fake/'\n",
    "mask_path='C:/Users/gudea/Desktop/COCO_FORGED/mask/'\n",
    "image_counter=26300\n",
    "for imgId,file_name in tqdm.tqdm_notebook(zip(imgIds[30000:40000],file_name_list[30000:40000])):\n",
    "    \n",
    "        imgdata=cv2.imread('C:\\\\Users\\\\gudea\\\\Downloads\\\\COCO\\\\val2014\\\\'+file_name)\n",
    "        #Convert to RGB\n",
    "        b,g,r=cv2.split(imgdata)\n",
    "        if(np.array_equal(np.array(r),np.array(g)) and np.array_equal(np.array(r),np.array(b))):\n",
    "            continue#Exclude gray scale images\n",
    "        imgdata=cv2.merge([r,g,b])\n",
    "        annIds = coco.getAnnIds(imgIds=imgId, catIds=catIds, iscrowd=None)\n",
    "        anns = coco.loadAnns(annIds)\n",
    "        binarymask=findAnnotationMatchingCriteria(anns,imgdata)\n",
    "        \n",
    "        if len(binarymask)==0:\n",
    "            continue\n",
    "        foreground=imgdata.copy()        \n",
    "        foreground[:,:,0]=np.array(imgdata[:,:,0] * binarymask )\n",
    "        foreground[:,:,1]=np.array(imgdata[:,:,1] * binarymask )\n",
    "        foreground[:,:,2]=np.array(imgdata[:,:,2] * binarymask )\n",
    "        new_foreground,new_binarymask=getAffineTransformedMask(foreground,binarymask)\n",
    "        \n",
    "        if(len(new_foreground)==0):\n",
    "            continue\n",
    "        background=Image.fromarray(imgdata,'RGB')\n",
    "        new_foreground=Image.fromarray(new_foreground,'RGB').convert('RGBA')\n",
    "        new_binarymask=Image.fromarray(new_binarymask*255)\n",
    "        datas=new_foreground.getdata()\n",
    "        newData = []\n",
    "        for item in datas:\n",
    "            if item[0] == 0 and item[1] == 0 and item[2] == 0:\n",
    "                newData.append((0, 0, 0, 0))\n",
    "            else:\n",
    "                newData.append(item)\n",
    "        new_foreground.putdata(newData)\n",
    "        #foreground=foreground.resize((background.size[0],background.size[1]),Image.ANTIALIAS)\n",
    "        background.paste(new_foreground,(0,0),mask=new_foreground.split()[3])\n",
    "        background=background.resize(size=(256,256))\n",
    "        new_binarymask=new_binarymask.resize(size=(256,256))\n",
    "        background.save(fake_path+str(image_counter)+'.png')\n",
    "        new_binarymask.save(mask_path+str(image_counter)+'.mask.png')\n",
    "        image_counter+=1\n",
    "    "
   ]
  },
  {
   "cell_type": "code",
   "execution_count": null,
   "metadata": {},
   "outputs": [],
   "source": []
  },
  {
   "cell_type": "code",
   "execution_count": null,
   "metadata": {},
   "outputs": [],
   "source": []
  }
 ],
 "metadata": {
  "kernelspec": {
   "display_name": "Python 3",
   "language": "python",
   "name": "python3"
  },
  "language_info": {
   "codemirror_mode": {
    "name": "ipython",
    "version": 3
   },
   "file_extension": ".py",
   "mimetype": "text/x-python",
   "name": "python",
   "nbconvert_exporter": "python",
   "pygments_lexer": "ipython3",
   "version": "3.6.5"
  }
 },
 "nbformat": 4,
 "nbformat_minor": 2
}
